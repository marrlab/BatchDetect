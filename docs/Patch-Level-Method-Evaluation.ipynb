{
 "cells": [
  {
   "cell_type": "code",
   "execution_count": 1,
   "metadata": {},
   "outputs": [],
   "source": [
    "%load_ext autoreload\n",
    "%autoreload 2"
   ]
  },
  {
   "cell_type": "code",
   "execution_count": null,
   "metadata": {},
   "outputs": [],
   "source": [
    "!pip install -e ./../../BatchDetect"
   ]
  },
  {
   "cell_type": "code",
   "execution_count": 3,
   "metadata": {},
   "outputs": [],
   "source": [
    "from pathlib import Path\n",
    "\n",
    "import numpy as np\n",
    "import pandas as pd\n",
    "import torch\n",
    "\n",
    "device = torch.device('cuda' if torch.cuda.is_available() else 'cpu')"
   ]
  },
  {
   "cell_type": "markdown",
   "metadata": {},
   "source": [
    "# Patch-level methods evaluation\n",
    "\n",
    "Evaluate the performance of patch-level methods, such as stain normalization or stain augmentation techniques."
   ]
  },
  {
   "cell_type": "markdown",
   "metadata": {},
   "source": [
    "## Reading metadata"
   ]
  },
  {
   "cell_type": "code",
   "execution_count": 4,
   "metadata": {},
   "outputs": [],
   "source": [
    "dataset = 'CRC'  # TODO make work for other datasets"
   ]
  },
  {
   "cell_type": "code",
   "execution_count": 5,
   "metadata": {},
   "outputs": [],
   "source": [
    "# create metadata dataframe from clini_table and folder structure\n",
    "base_dir = Path(f'/lustre/groups/shared/users/peng_marr/BatchDetect/BatchDetect{dataset}')\n",
    "# clini_table = pd.read_csv(base_dir / 'BatchDetectCRC_clini.csv')\n",
    "clini_table = pd.read_csv(base_dir.parent / 'BatchDetectCRC_clini.csv')\n",
    "\n",
    "labels = list(clini_table.columns)  # or costum list\n",
    "labels.remove('PATIENT')\n",
    "labels.remove('AGE')\n",
    "\n",
    "metadata_path = Path(base_dir / 'metadata.csv')\n",
    "if metadata_path.exists():\n",
    "    metadata = pd.read_csv(metadata_path)\n",
    "else:\n",
    "    # metadata with columns: file, label (MSI-H), submission site\n",
    "    patch_list = list(base_dir.glob('**/*.jpeg'))\n",
    "    print('Number of patches:', len(patch_list))\n",
    "\n",
    "    submission_site = [patch.parent.parent.name for patch in patch_list]\n",
    "    metadata = pd.DataFrame(list(zip(patch_list, submission_site)), columns=['file', 'dataset'])\n",
    "\n",
    "    for l in labels:\n",
    "        label = [clini_table[l][clini_table['PATIENT'] == patch.name.split('_')[0]].item() for patch in patch_list]\n",
    "        metadata[l] = label\n",
    "    metadata.to_csv(metadata_path, index=False)"
   ]
  },
  {
   "cell_type": "code",
   "execution_count": 6,
   "metadata": {},
   "outputs": [],
   "source": [
    "# for TCGA-CRC cohorts\n",
    "if dataset == 'CRC':\n",
    "    from pathlib import Path\n",
    "    metadata[\"type\"] = metadata[\"file\"].astype(str).apply(lambda x: Path(x).parent.name.split(\".\")[0].split(\"-\")[-1])\n",
    "    metadata[\"type\"] = metadata[\"type\"].apply(lambda x: \"FFPE\" if x.startswith(\"DX\") else x)\n",
    "    metadata[\"type\"] = metadata[\"type\"].apply(lambda x: \"frozen\" if x.startswith(\"TS\") else x)\n",
    "    metadata[\"type\"] = metadata[\"type\"].apply(lambda x: \"frozen\" if x.startswith(\"BS\") else x)\n",
    "    # map type to frozen if dataset == CPTAC\n",
    "    metadata[\"type\"] = metadata.apply(lambda x: \"frozen\" if x[\"dataset\"] == \"CPTAC\" else x[\"type\"], axis=1)\n",
    "    # map all entries that are not frozen or FFPE to \"\"\n",
    "    metadata[\"type\"] = metadata[\"type\"].apply(lambda x: x if x in [\"frozen\", \"FFPE\"] else np.nan)\n",
    "    # metadata.to_csv(Path(base_dir / 'metadata.csv'), index=False)\n",
    "    labels = labels + [\"type\"]"
   ]
  },
  {
   "cell_type": "code",
   "execution_count": null,
   "metadata": {},
   "outputs": [],
   "source": [
    "metadata"
   ]
  },
  {
   "cell_type": "markdown",
   "metadata": {},
   "source": [
    "## Features\n",
    "Create or load features"
   ]
  },
  {
   "cell_type": "code",
   "execution_count": 109,
   "metadata": {},
   "outputs": [],
   "source": [
    "method = \"original\"  # no batch correction method is applied\n",
    "features = 'ufirst_and_second_orderni' "
   ]
  },
  {
   "cell_type": "code",
   "execution_count": null,
   "metadata": {},
   "outputs": [],
   "source": [
    "from batchdetect.image import first_and_second_order, resnet, ctranspath, h_optimus_0, h0_mini, h_optimus_1, uni2, conch, uni\n",
    "\n",
    "df_features_path = base_dir / f'{method}_{features}_features.csv'\n",
    "\n",
    "if df_features_path.exists():\n",
    "    df_features = pd.read_csv(df_features_path)\n",
    "else:\n",
    "    if features == 'first_and_second_order':\n",
    "        df_features = first_and_second_order(metadata)\n",
    "    elif features == 'resnet':\n",
    "        df_features = resnet(metadata)\n",
    "        df_features = pd.DataFrame(np.stack(df_features, axis=0))\n",
    "    elif features == 'ctranspath':\n",
    "        df_features = ctranspath(metadata)\n",
    "        df_features = pd.DataFrame(np.stack(df_features, axis=0))\n",
    "    elif features == 'h_optimus_0':\n",
    "        df_features = h_optimus_0(metadata)\n",
    "        df_features = pd.DataFrame(np.stack(df_features, axis=0))\n",
    "    elif features == 'h0_mini':\n",
    "        df_features = h0_mini(metadata)\n",
    "        df_features = pd.DataFrame(np.stack(df_features, axis=0)[:, 0, :])\n",
    "    elif features == 'h_optimus_1':\n",
    "        df_features = h_optimus_1(metadata)\n",
    "        df_features = pd.DataFrame(np.stack(df_features, axis=0))\n",
    "    elif features == 'uni2':\n",
    "        df_features = uni2(metadata)\n",
    "        df_features = pd.DataFrame(np.stack(df_features, axis=0))\n",
    "    elif features == 'uni':\n",
    "        df_features = uni(metadata)\n",
    "        df_features = pd.DataFrame(np.stack(df_features, axis=0))\n",
    "    elif features == 'conch':\n",
    "        from tqdm import tqdm \n",
    "        from PIL import Image\n",
    "        # custom forward pass\n",
    "        model, transform = conch()\n",
    "        file_list = metadata[\"file\"].tolist()\n",
    "        df_features = []\n",
    "        for f in tqdm(file_list):\n",
    "            image = Image.open(f).convert('RGB')\n",
    "\n",
    "            with torch.no_grad():\n",
    "                with torch.cuda.amp.autocast():\n",
    "                    image = transform(image).unsqueeze(0)\n",
    "                    image = image.to(device)\n",
    "                    df_features.append(model.encode_image(image, proj_contrast=False, normalize=False).squeeze().cpu().numpy())\n",
    "        df_features = pd.DataFrame(np.stack(df_features, axis=0))\n",
    "    \n",
    "    df_features.to_csv(df_features_path, index=False)"
   ]
  },
  {
   "cell_type": "markdown",
   "metadata": {},
   "source": [
    "## Let's see if there is a batch effect in the data"
   ]
  },
  {
   "cell_type": "code",
   "execution_count": null,
   "metadata": {},
   "outputs": [],
   "source": [
    "from batchdetect.batchdetect import BatchDetect\n",
    "\n",
    "bd = BatchDetect(metadata.loc[:, [*labels, \"dataset\"]], df_features)"
   ]
  },
  {
   "cell_type": "markdown",
   "metadata": {},
   "source": [
    "### Visualizations"
   ]
  },
  {
   "cell_type": "code",
   "execution_count": null,
   "metadata": {},
   "outputs": [],
   "source": [
    "bd.low_dim_visualization(\"pca\")"
   ]
  },
  {
   "cell_type": "code",
   "execution_count": null,
   "metadata": {},
   "outputs": [],
   "source": [
    "bd.low_dim_visualization(\"tsne\")"
   ]
  },
  {
   "cell_type": "code",
   "execution_count": 117,
   "metadata": {},
   "outputs": [],
   "source": [
    "bd.low_dim_visualization(\"umap\")  "
   ]
  },
  {
   "cell_type": "markdown",
   "metadata": {},
   "source": [
    "### Anova test of principal components vs. labels"
   ]
  },
  {
   "cell_type": "code",
   "execution_count": null,
   "metadata": {},
   "outputs": [],
   "source": [
    "bd.prince_plot()"
   ]
  },
  {
   "cell_type": "markdown",
   "metadata": {},
   "source": [
    "### classification test of random forest (RF) vs a random classifier"
   ]
  },
  {
   "cell_type": "code",
   "execution_count": null,
   "metadata": {},
   "outputs": [],
   "source": [
    "bd.classification_test(scorer=\"f1_macro\")"
   ]
  },
  {
   "cell_type": "markdown",
   "metadata": {},
   "source": [
    "### Clustering metrics"
   ]
  },
  {
   "cell_type": "code",
   "execution_count": null,
   "metadata": {},
   "outputs": [],
   "source": [
    "targets = [*labels, \"dataset\"]\n",
    "\n",
    "from batchdetect.metrics import mean_local_diversity, silhouette_score\n",
    "\n",
    "metrics = [mean_local_diversity, silhouette_score]\n",
    "metrics_labels = [f'{m.__name__}'.replace('_', ' ').title() for m in metrics]\n",
    "\n",
    "result_df = pd.DataFrame(columns=[\"Target\", *metrics_labels])\n",
    "\n",
    "for i, m in enumerate(metrics):\n",
    "    res = m(metadata, targets, df_features)\n",
    "    for j, t in enumerate(targets):\n",
    "        result_df.loc[j, \"Target\"] = t\n",
    "        result_df.loc[j, metrics_labels[i]] = res[t]\n"
   ]
  },
  {
   "cell_type": "code",
   "execution_count": null,
   "metadata": {},
   "outputs": [],
   "source": [
    "result_df"
   ]
  },
  {
   "cell_type": "markdown",
   "metadata": {},
   "source": [
    "| Metrics | Range | Aim for highest mixture |\n",
    "|:-------------|:--------------:|:--------------:|\n",
    "| Mean local diversity | [0, 1] | 1 |\n",
    "| Silhouette score | [-1 ,1] | -1 |"
   ]
  },
  {
   "cell_type": "code",
   "execution_count": null,
   "metadata": {},
   "outputs": [],
   "source": [
    "labels"
   ]
  }
 ],
 "metadata": {
  "kernelspec": {
   "display_name": "bd",
   "language": "python",
   "name": "python3"
  },
  "language_info": {
   "codemirror_mode": {
    "name": "ipython",
    "version": 3
   },
   "file_extension": ".py",
   "mimetype": "text/x-python",
   "name": "python",
   "nbconvert_exporter": "python",
   "pygments_lexer": "ipython3",
   "version": "3.11.11"
  }
 },
 "nbformat": 4,
 "nbformat_minor": 4
}
