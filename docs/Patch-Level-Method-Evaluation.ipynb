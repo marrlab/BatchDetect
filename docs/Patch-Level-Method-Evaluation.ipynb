{
 "cells": [
  {
   "cell_type": "code",
   "execution_count": null,
   "metadata": {},
   "outputs": [],
   "source": [
    "!pip -q install -e ./../../BatchDetect"
   ]
  },
  {
   "cell_type": "code",
   "execution_count": null,
   "metadata": {},
   "outputs": [],
   "source": [
    "%load_ext autoreload\n",
    "%autoreload 2\n",
    "from pathlib import Path\n",
    "\n",
    "import numpy as np\n",
    "import pandas as pd\n",
    "import torch\n",
    "\n",
    "device = torch.device('cuda' if torch.cuda.is_available() else 'cpu')"
   ]
  },
  {
   "cell_type": "markdown",
   "metadata": {},
   "source": [
    "# Patch-level methods evaluation\n",
    "\n",
    "Evaluate the performance of patch-level methods, such as stain normalization or stain augmentation techniques."
   ]
  },
  {
   "cell_type": "markdown",
   "metadata": {},
   "source": [
    "## Reading metadata"
   ]
  },
  {
   "cell_type": "code",
   "execution_count": null,
   "metadata": {},
   "outputs": [],
   "source": [
    "dataset = 'CRC'  # TODO make work for other datasets"
   ]
  },
  {
   "cell_type": "code",
   "execution_count": null,
   "metadata": {},
   "outputs": [],
   "source": [
    "# create metadata dataframe from clini_table and folder structure\n",
    "clini_table = pd.read_csv(Path('/lustre/groups/shared/users/peng_marr/BatchDetect/BatchDetectCRC_clini.csv'))\n",
    "\n",
    "# metadata with columns: file, label (MSI-H), submission site\n",
    "base_dir = Path(f'/lustre/groups/shared/users/peng_marr/BatchDetect/BatchDetect{dataset}')\n",
    "patch_list = list(base_dir.glob('**/*.jpeg'))\n",
    "print('Number of patches:', len(patch_list))\n",
    "\n",
    "submission_site = [patch.parent.parent.name for patch in patch_list]\n",
    "metadata = pd.DataFrame(list(zip(patch_list, submission_site)), columns=['file', 'dataset'])\n",
    "\n",
    "labels = list(clini_table.columns)  # or costum list\n",
    "labels.remove('PATIENT')\n",
    "for l in labels:\n",
    "    label = [clini_table[l][clini_table['PATIENT'] == patch.name.split('_')[0]].item() for patch in patch_list]\n",
    "    metadata[l] = label"
   ]
  },
  {
   "cell_type": "code",
   "execution_count": null,
   "metadata": {},
   "outputs": [],
   "source": [
    "clini_table.columns"
   ]
  },
  {
   "cell_type": "code",
   "execution_count": null,
   "metadata": {},
   "outputs": [],
   "source": [
    "np.unique(np.array(submission_site), return_counts=True)"
   ]
  },
  {
   "cell_type": "code",
   "execution_count": null,
   "metadata": {},
   "outputs": [],
   "source": [
    "metadata"
   ]
  },
  {
   "cell_type": "code",
   "execution_count": null,
   "metadata": {},
   "outputs": [],
   "source": [
    "metadata.to_csv('/lustre/groups/shared/users/peng_marr/BatchDetect/BatchDetectCRC_metadata.csv', index=False)"
   ]
  },
  {
   "cell_type": "markdown",
   "metadata": {},
   "source": [
    "## Features\n",
    "Create or load features"
   ]
  },
  {
   "cell_type": "code",
   "execution_count": null,
   "metadata": {},
   "outputs": [],
   "source": [
    "method = \"original\"  # TODO extend this to list of methods\n",
    "features = 'first_and_second_order'  # TODO extend this to list of feature extractors"
   ]
  },
  {
   "cell_type": "code",
   "execution_count": null,
   "metadata": {},
   "outputs": [],
   "source": [
    "from batchdetect.image import first_and_second_order\n",
    "\n",
    "df_features_path = base_dir / f'{method}_{features}_features.csv'\n",
    "\n",
    "if df_features_path.exists():\n",
    "    df_features = pd.read_csv(df_features_path)\n",
    "else:\n",
    "    df_features = first_and_second_order(metadata)\n",
    "    df_features.to_csv(df_features_path)"
   ]
  },
  {
   "cell_type": "code",
   "execution_count": null,
   "metadata": {},
   "outputs": [],
   "source": [
    "df_features.columns"
   ]
  },
  {
   "cell_type": "code",
   "execution_count": null,
   "metadata": {},
   "outputs": [],
   "source": [
    "# considering that one of the datasets include four channels, we need to remove it from the dataframe for a fair comaparison\n",
    "# TODO check if this is needed\n",
    "col_index = ~df_features.columns.str.contains(\"Ch4\")\n",
    "\n",
    "df_features = df_features.loc[:,col_index]"
   ]
  },
  {
   "cell_type": "markdown",
   "metadata": {},
   "source": [
    "## Let's see if there is a batch effect in the data"
   ]
  },
  {
   "cell_type": "code",
   "execution_count": null,
   "metadata": {},
   "outputs": [],
   "source": [
    "from batchdetect.batchdetect import BatchDetect\n",
    "\n",
    "bd = BatchDetect(metadata.loc[:,[\"label\",\"dataset\"]], df_features)"
   ]
  },
  {
   "cell_type": "code",
   "execution_count": null,
   "metadata": {},
   "outputs": [],
   "source": [
    "df_features"
   ]
  },
  {
   "cell_type": "markdown",
   "metadata": {},
   "source": [
    "### Visualizations"
   ]
  },
  {
   "cell_type": "code",
   "execution_count": null,
   "metadata": {},
   "outputs": [],
   "source": [
    "bd.low_dim_visualization(\"pca\")"
   ]
  },
  {
   "cell_type": "code",
   "execution_count": null,
   "metadata": {},
   "outputs": [],
   "source": [
    "bd.low_dim_visualization(\"tsne\")"
   ]
  },
  {
   "cell_type": "code",
   "execution_count": null,
   "metadata": {},
   "outputs": [],
   "source": [
    "bd.low_dim_visualization(\"umap\")"
   ]
  },
  {
   "cell_type": "markdown",
   "metadata": {},
   "source": [
    "### Anova test of principal components vs. labels"
   ]
  },
  {
   "cell_type": "code",
   "execution_count": null,
   "metadata": {},
   "outputs": [],
   "source": [
    "bd.prince_plot()"
   ]
  },
  {
   "cell_type": "markdown",
   "metadata": {},
   "source": [
    "### classification test of random forest (RF) vs a random classifier"
   ]
  },
  {
   "cell_type": "code",
   "execution_count": null,
   "metadata": {},
   "outputs": [],
   "source": [
    "bd.classification_test(scorer=\"f1_macro\")"
   ]
  },
  {
   "cell_type": "markdown",
   "metadata": {},
   "source": [
    "### Clustering metrics"
   ]
  },
  {
   "cell_type": "code",
   "execution_count": null,
   "metadata": {},
   "outputs": [],
   "source": [
    "targets = [\"label\", \"dataset\"]\n",
    "\n",
    "from batchdetect.metrics import mean_local_diversity, silhouette_score\n",
    "\n",
    "metrics = [mean_local_diversity, silhouette_score]\n",
    "metrics_labels = [f'{m.__name__}'.replace('_', ' ').title() for m in metrics]\n",
    "\n",
    "result_df = pd.DataFrame(columns=[\"Target\", *metrics_labels])\n",
    "\n",
    "for i, m in enumerate(metrics):\n",
    "    res = m(metadata, targets, df_features)\n",
    "    for j, t in enumerate(targets):\n",
    "        result_df.loc[j, \"Target\"] = t\n",
    "        result_df.loc[j, metrics_labels[i]] = res[t]\n",
    "    \n"
   ]
  },
  {
   "cell_type": "code",
   "execution_count": null,
   "metadata": {},
   "outputs": [],
   "source": [
    "result_df"
   ]
  },
  {
   "cell_type": "code",
   "execution_count": null,
   "metadata": {},
   "outputs": [],
   "source": []
  }
 ],
 "metadata": {
  "kernelspec": {
   "display_name": "batch",
   "language": "python",
   "name": "batch"
  },
  "language_info": {
   "codemirror_mode": {
    "name": "ipython",
    "version": 3
   },
   "file_extension": ".py",
   "mimetype": "text/x-python",
   "name": "python",
   "nbconvert_exporter": "python",
   "pygments_lexer": "ipython3",
   "version": "3.10.11"
  }
 },
 "nbformat": 4,
 "nbformat_minor": 4
}
